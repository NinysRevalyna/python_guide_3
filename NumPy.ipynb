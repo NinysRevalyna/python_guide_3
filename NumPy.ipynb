{
 "cells": [
  {
   "cell_type": "markdown",
   "id": "8ab9dca4",
   "metadata": {},
   "source": [
    "# Import"
   ]
  },
  {
   "cell_type": "code",
   "execution_count": 1,
   "id": "c8a1dfbb",
   "metadata": {},
   "outputs": [],
   "source": [
    "# importing numpy to document\n",
    "import numpy as np"
   ]
  },
  {
   "cell_type": "markdown",
   "id": "622639e5",
   "metadata": {},
   "source": [
    "# Check Version"
   ]
  },
  {
   "cell_type": "code",
   "execution_count": 2,
   "id": "08424265",
   "metadata": {},
   "outputs": [
    {
     "name": "stdout",
     "output_type": "stream",
     "text": [
      "1.24.3\n"
     ]
    }
   ],
   "source": [
    "# checking numpy version\n",
    "print(np.__version__)"
   ]
  },
  {
   "cell_type": "markdown",
   "id": "801a3307",
   "metadata": {},
   "source": [
    "# Creating NumPy"
   ]
  },
  {
   "cell_type": "code",
   "execution_count": 3,
   "id": "ba5ff0d1",
   "metadata": {},
   "outputs": [
    {
     "name": "stdout",
     "output_type": "stream",
     "text": [
      "[1 2 3 4 5]\n"
     ]
    }
   ],
   "source": [
    "# creating a numpy array from list\n",
    "arr = np.array([1,2,3,4,5])\n",
    "print(arr)"
   ]
  },
  {
   "cell_type": "code",
   "execution_count": 4,
   "id": "c959e3f6",
   "metadata": {},
   "outputs": [
    {
     "name": "stdout",
     "output_type": "stream",
     "text": [
      "[1 2 3 4 5]\n"
     ]
    }
   ],
   "source": [
    "# use a tuple to create a numpy array\n",
    "arr = np.array((1,2,3,4,5))\n",
    "print(arr)"
   ]
  },
  {
   "cell_type": "markdown",
   "id": "898242d5",
   "metadata": {},
   "source": [
    "# Check Data Types"
   ]
  },
  {
   "cell_type": "code",
   "execution_count": 5,
   "id": "864ff59e",
   "metadata": {},
   "outputs": [
    {
     "name": "stdout",
     "output_type": "stream",
     "text": [
      "<class 'numpy.ndarray'>\n"
     ]
    }
   ],
   "source": [
    "# checking data types of numpy array\n",
    "print(type(arr))"
   ]
  },
  {
   "cell_type": "markdown",
   "id": "983fa536",
   "metadata": {},
   "source": [
    "# Dimension on Numpy Array"
   ]
  },
  {
   "cell_type": "markdown",
   "id": "baba2d42",
   "metadata": {},
   "source": [
    "A dimension in arrays is one level of array depth (nested array)"
   ]
  },
  {
   "cell_type": "code",
   "execution_count": 6,
   "id": "4ca8559a",
   "metadata": {},
   "outputs": [
    {
     "name": "stdout",
     "output_type": "stream",
     "text": [
      "42\n"
     ]
    }
   ],
   "source": [
    "# 0-D Arrays\n",
    "arr_0 = np.array(42)\n",
    "print(arr_0)"
   ]
  },
  {
   "cell_type": "code",
   "execution_count": 7,
   "id": "c0bd993d",
   "metadata": {},
   "outputs": [
    {
     "name": "stdout",
     "output_type": "stream",
     "text": [
      "[1 2 3 4 5]\n"
     ]
    }
   ],
   "source": [
    "# Creating 1-D Arrays\n",
    "arr_1 = np.array([1,2,3,4,5])\n",
    "print(arr_1)"
   ]
  },
  {
   "cell_type": "code",
   "execution_count": 11,
   "id": "870beeb7",
   "metadata": {},
   "outputs": [
    {
     "name": "stdout",
     "output_type": "stream",
     "text": [
      "[[ 1  2  3  4  5]\n",
      " [ 6  7  8  9 10]]\n"
     ]
    }
   ],
   "source": [
    "# Creating 2-D Arrays\n",
    "arr_2 = np.array([[1,2,3,4,5],[6,7,8,9,10]])\n",
    "print(arr_2)"
   ]
  },
  {
   "cell_type": "code",
   "execution_count": 9,
   "id": "f2f58c2e",
   "metadata": {},
   "outputs": [
    {
     "name": "stdout",
     "output_type": "stream",
     "text": [
      "[[[ 1  2  3  4  5]\n",
      "  [ 6  7  8  9 10]]\n",
      "\n",
      " [[ 1  2  3  4  5]\n",
      "  [ 6  7  8  9 10]]]\n"
     ]
    }
   ],
   "source": [
    "# Creating 3-D Arrays\n",
    "arr_3 = np.array([[[1,2,3,4,5],[6,7,8,9,10]],[[1,2,3,4,5],[6,7,8,9,10]]])\n",
    "print(arr_3)"
   ]
  },
  {
   "cell_type": "markdown",
   "id": "db98c27a",
   "metadata": {},
   "source": [
    "# Check how many dimension on NumPy Array"
   ]
  },
  {
   "cell_type": "code",
   "execution_count": 14,
   "id": "bbebac3a",
   "metadata": {},
   "outputs": [
    {
     "name": "stdout",
     "output_type": "stream",
     "text": [
      "2\n"
     ]
    }
   ],
   "source": [
    "# Check how many dimensions the array\n",
    "print(arr_2.ndim)"
   ]
  },
  {
   "cell_type": "code",
   "execution_count": 15,
   "id": "6ac95155",
   "metadata": {},
   "outputs": [
    {
     "name": "stdout",
     "output_type": "stream",
     "text": [
      "0\n",
      "1\n",
      "2\n",
      "3\n"
     ]
    }
   ],
   "source": [
    "a = np.array(42)\n",
    "b = np.array([1,2,3,4,5])\n",
    "c = np.array([[1,2,3],[4,5,6]])\n",
    "d = np.array([[[1,2,3],[4,5,6]], [[1,2,3],[4,5,6]]])\n",
    "\n",
    "print(a.ndim)\n",
    "print(b.ndim)\n",
    "print(c.ndim)\n",
    "print(d.ndim)"
   ]
  },
  {
   "cell_type": "code",
   "execution_count": 16,
   "id": "bbbd7482",
   "metadata": {},
   "outputs": [
    {
     "name": "stdout",
     "output_type": "stream",
     "text": [
      "[[[[[1 2 3 4]]]]]\n"
     ]
    }
   ],
   "source": [
    "# Create an arrays with 5 dimensions and verify that it has 5 dimension\n",
    "arr5 = np.array([1,2,3,4], ndmin=5)\n",
    "print(arr5)"
   ]
  },
  {
   "cell_type": "code",
   "execution_count": 17,
   "id": "9202557e",
   "metadata": {},
   "outputs": [
    {
     "name": "stdout",
     "output_type": "stream",
     "text": [
      "[[[[[1 2 3 4]]]]]\n",
      "number of dimensions : 5\n"
     ]
    }
   ],
   "source": [
    "arr5 = np.array([1,2,3,4], ndmin=5)\n",
    "print(arr5)\n",
    "print('number of dimensions :', arr5.ndim)"
   ]
  },
  {
   "cell_type": "code",
   "execution_count": 18,
   "id": "2d9db152",
   "metadata": {},
   "outputs": [
    {
     "name": "stdout",
     "output_type": "stream",
     "text": [
      "1\n"
     ]
    }
   ],
   "source": [
    "# get the first element from the following array\n",
    "arr = np.array([1, 2, 3, 4])\n",
    "print(arr[0])"
   ]
  },
  {
   "cell_type": "code",
   "execution_count": 19,
   "id": "65d2da4a",
   "metadata": {},
   "outputs": [
    {
     "name": "stdout",
     "output_type": "stream",
     "text": [
      "7\n"
     ]
    }
   ],
   "source": [
    "# get the third and fourth element from the following array\n",
    "arr = np.array([1, 2, 3, 4])\n",
    "print(arr[2] + arr[3])"
   ]
  },
  {
   "cell_type": "code",
   "execution_count": 20,
   "id": "0c1d2525",
   "metadata": {},
   "outputs": [
    {
     "name": "stdout",
     "output_type": "stream",
     "text": [
      "2nd element on 1st row : 2\n"
     ]
    }
   ],
   "source": [
    "# Access the element on the first row, second column\n",
    "arr = np.array([[1, 2, 3, 4] , [5, 6, 7, 8]])\n",
    "print('2nd element on 1st row :', arr[0, 1])"
   ]
  },
  {
   "cell_type": "code",
   "execution_count": 21,
   "id": "b4fc377a",
   "metadata": {},
   "outputs": [
    {
     "name": "stdout",
     "output_type": "stream",
     "text": [
      "5th element on 2nd row : 10\n"
     ]
    }
   ],
   "source": [
    "# Access the element on the 2nd row, 5th column\n",
    "arr = np.array([[1, 2, 3, 4, 5] , [6, 7, 8, 9, 10]])\n",
    "print('5th element on 2nd row :', arr[1, 4])"
   ]
  },
  {
   "cell_type": "markdown",
   "id": "f4252a05",
   "metadata": {},
   "source": [
    "# Task 1"
   ]
  },
  {
   "cell_type": "code",
   "execution_count": 22,
   "id": "5a529df4",
   "metadata": {},
   "outputs": [
    {
     "name": "stdout",
     "output_type": "stream",
     "text": [
      "1.24.3\n",
      "[[1 2 3]\n",
      " [4 5 6]\n",
      " [7 8 9]]\n",
      "<class 'numpy.ndarray'>\n"
     ]
    }
   ],
   "source": [
    "# import\n",
    "import numpy as np\n",
    "\n",
    "# cek version\n",
    "print(np.__version__)\n",
    "\n",
    "# contoh numpy 2D array\n",
    "arr1 = np.array([[1, 2, 3], [4, 5, 6], [7, 8, 9]])\n",
    "print(arr1)\n",
    "\n",
    "# type data\n",
    "print(type(arr1))"
   ]
  },
  {
   "cell_type": "markdown",
   "id": "dfdd6168",
   "metadata": {},
   "source": [
    "# Task 2"
   ]
  },
  {
   "cell_type": "code",
   "execution_count": 23,
   "id": "95ea1e9c",
   "metadata": {},
   "outputs": [
    {
     "name": "stdout",
     "output_type": "stream",
     "text": [
      "10\n"
     ]
    }
   ],
   "source": [
    "# 0-D array\n",
    "arr0 = np.array(10)\n",
    "print(arr0)"
   ]
  },
  {
   "cell_type": "code",
   "execution_count": 24,
   "id": "0cd5e93a",
   "metadata": {},
   "outputs": [
    {
     "name": "stdout",
     "output_type": "stream",
     "text": [
      "['ninys' 'elsha' 'cristin' 'tria']\n"
     ]
    }
   ],
   "source": [
    "# 1-D array\n",
    "arr1 = np.array(['ninys', 'elsha', 'cristin', 'tria'])\n",
    "print(arr1)"
   ]
  },
  {
   "cell_type": "code",
   "execution_count": 25,
   "id": "45787fb0",
   "metadata": {},
   "outputs": [
    {
     "name": "stdout",
     "output_type": "stream",
     "text": [
      "[['2' '2.5' '3']\n",
      " ['4' '6' '8']\n",
      " ['ninys' 'elsha' 'cristin']]\n"
     ]
    }
   ],
   "source": [
    "# 2-D array\n",
    "arr2 = np.array([[2, 2.5, 3], [4, 6, 8], ['ninys','elsha','cristin']])\n",
    "print(arr2)"
   ]
  },
  {
   "cell_type": "markdown",
   "id": "90de7a59",
   "metadata": {},
   "source": [
    "# Task 3"
   ]
  },
  {
   "cell_type": "code",
   "execution_count": 26,
   "id": "0fc4e544",
   "metadata": {},
   "outputs": [
    {
     "name": "stdout",
     "output_type": "stream",
     "text": [
      "0\n",
      "1\n",
      "2\n"
     ]
    }
   ],
   "source": [
    "# create array\n",
    "x = np.array(10)\n",
    "y = np.array([20, 21, 22])\n",
    "z = np.array([[10, 20],['ninys', 'data']])\n",
    "\n",
    "print(x.ndim)\n",
    "print(y.ndim)\n",
    "print(z.ndim)"
   ]
  },
  {
   "cell_type": "code",
   "execution_count": 28,
   "id": "f761bf7c",
   "metadata": {},
   "outputs": [
    {
     "name": "stdout",
     "output_type": "stream",
     "text": [
      "[[[2 4 6]]]\n",
      "number of dimensions : 3\n"
     ]
    }
   ],
   "source": [
    "arr10 = np.array([2, 4, 6], ndmin = 3)\n",
    "print(arr10)\n",
    "print ('number of dimensions :', arr10.ndim)"
   ]
  },
  {
   "cell_type": "markdown",
   "id": "596bdb46",
   "metadata": {},
   "source": [
    "# Task 4"
   ]
  },
  {
   "cell_type": "code",
   "execution_count": 29,
   "id": "cc2edb95",
   "metadata": {},
   "outputs": [
    {
     "name": "stdout",
     "output_type": "stream",
     "text": [
      "Slicing baris pertama : [1 2 3]\n"
     ]
    }
   ],
   "source": [
    "arr2 = np.array([[1, 2, 3], [4, 5, 6]])\n",
    "\n",
    "first_row = arr2[0, :]\n",
    "print('Slicing baris pertama :', first_row)"
   ]
  }
 ],
 "metadata": {
  "kernelspec": {
   "display_name": "Python 3 (ipykernel)",
   "language": "python",
   "name": "python3"
  },
  "language_info": {
   "codemirror_mode": {
    "name": "ipython",
    "version": 3
   },
   "file_extension": ".py",
   "mimetype": "text/x-python",
   "name": "python",
   "nbconvert_exporter": "python",
   "pygments_lexer": "ipython3",
   "version": "3.11.4"
  }
 },
 "nbformat": 4,
 "nbformat_minor": 5
}
