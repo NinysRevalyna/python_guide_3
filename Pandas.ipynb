{
 "cells": [
  {
   "cell_type": "markdown",
   "id": "d5068bd0",
   "metadata": {},
   "source": [
    "# Import Library"
   ]
  },
  {
   "cell_type": "code",
   "execution_count": 1,
   "id": "05481982",
   "metadata": {},
   "outputs": [],
   "source": [
    "import pandas as pd\n",
    "import numpy as np"
   ]
  },
  {
   "cell_type": "markdown",
   "id": "91078262",
   "metadata": {},
   "source": [
    "Pandas has two objects, namely series and dataframe"
   ]
  },
  {
   "cell_type": "markdown",
   "id": "1c7ebd80",
   "metadata": {},
   "source": [
    "# Object Series"
   ]
  },
  {
   "cell_type": "markdown",
   "id": "b2e8d5b9",
   "metadata": {},
   "source": [
    "- Object series has one data dimension.\n",
    "- It doesn't have a column name because it only has one column.\n",
    "- And it has an index."
   ]
  },
  {
   "cell_type": "code",
   "execution_count": 2,
   "id": "02ec0177",
   "metadata": {},
   "outputs": [],
   "source": [
    "data = [0.25, 0.50, 0.75, 1]"
   ]
  },
  {
   "cell_type": "code",
   "execution_count": 3,
   "id": "1a78b03c",
   "metadata": {},
   "outputs": [
    {
     "name": "stdout",
     "output_type": "stream",
     "text": [
      "[0.25, 0.5, 0.75, 1]\n"
     ]
    }
   ],
   "source": [
    "print(data)"
   ]
  },
  {
   "cell_type": "markdown",
   "id": "0879d0bc",
   "metadata": {},
   "source": [
    "# Converting data into series"
   ]
  },
  {
   "cell_type": "code",
   "execution_count": 4,
   "id": "6261625c",
   "metadata": {},
   "outputs": [
    {
     "data": {
      "text/plain": [
       "0    0.25\n",
       "1    0.50\n",
       "2    0.75\n",
       "3    1.00\n",
       "dtype: float64"
      ]
     },
     "execution_count": 4,
     "metadata": {},
     "output_type": "execute_result"
    }
   ],
   "source": [
    "data = pd.Series(data)\n",
    "data"
   ]
  },
  {
   "cell_type": "markdown",
   "id": "77be341e",
   "metadata": {},
   "source": [
    "# Convert from series to array"
   ]
  },
  {
   "cell_type": "code",
   "execution_count": 5,
   "id": "d5d9a520",
   "metadata": {},
   "outputs": [
    {
     "data": {
      "text/plain": [
       "array([0.25, 0.5 , 0.75, 1.  ])"
      ]
     },
     "execution_count": 5,
     "metadata": {},
     "output_type": "execute_result"
    }
   ],
   "source": [
    "data.values"
   ]
  },
  {
   "cell_type": "markdown",
   "id": "419f116e",
   "metadata": {},
   "source": [
    "# Displays Index"
   ]
  },
  {
   "cell_type": "markdown",
   "id": "0a43853e",
   "metadata": {},
   "source": [
    "The index is in the form of a range, where the start point is inclusive of the range and the stop point is exclusive of the range."
   ]
  },
  {
   "cell_type": "code",
   "execution_count": 6,
   "id": "b3eec12b",
   "metadata": {},
   "outputs": [
    {
     "data": {
      "text/plain": [
       "RangeIndex(start=0, stop=4, step=1)"
      ]
     },
     "execution_count": 6,
     "metadata": {},
     "output_type": "execute_result"
    }
   ],
   "source": [
    "data.index"
   ]
  },
  {
   "cell_type": "code",
   "execution_count": 7,
   "id": "323024e3",
   "metadata": {},
   "outputs": [
    {
     "data": {
      "text/plain": [
       "[0, 2, 4, 6, 8]"
      ]
     },
     "execution_count": 7,
     "metadata": {},
     "output_type": "execute_result"
    }
   ],
   "source": [
    "list(range(0, 10, 2))"
   ]
  },
  {
   "cell_type": "markdown",
   "id": "a3a84ade",
   "metadata": {},
   "source": [
    "# Calling Data"
   ]
  },
  {
   "cell_type": "code",
   "execution_count": 8,
   "id": "04cd5fa9",
   "metadata": {},
   "outputs": [
    {
     "data": {
      "text/plain": [
       "0.75"
      ]
     },
     "execution_count": 8,
     "metadata": {},
     "output_type": "execute_result"
    }
   ],
   "source": [
    "data[2]"
   ]
  },
  {
   "cell_type": "markdown",
   "id": "27ed4ba1",
   "metadata": {},
   "source": [
    "- The implicit index is the default index.\n",
    "- We can define the index ny, this is called an explicit index, namely a defined index"
   ]
  },
  {
   "cell_type": "code",
   "execution_count": 9,
   "id": "153165b9",
   "metadata": {},
   "outputs": [],
   "source": [
    "data = pd.Series([0.25, 0.50, 0.75, 1], index=['a', 'b', 'c', 'd'])"
   ]
  },
  {
   "cell_type": "code",
   "execution_count": 10,
   "id": "4314a866",
   "metadata": {},
   "outputs": [
    {
     "data": {
      "text/plain": [
       "a    0.25\n",
       "b    0.50\n",
       "c    0.75\n",
       "d    1.00\n",
       "dtype: float64"
      ]
     },
     "execution_count": 10,
     "metadata": {},
     "output_type": "execute_result"
    }
   ],
   "source": [
    "data"
   ]
  },
  {
   "cell_type": "code",
   "execution_count": 11,
   "id": "075b2f81",
   "metadata": {},
   "outputs": [
    {
     "data": {
      "text/plain": [
       "array([0.25, 0.5 , 0.75, 1.  ])"
      ]
     },
     "execution_count": 11,
     "metadata": {},
     "output_type": "execute_result"
    }
   ],
   "source": [
    "data.values"
   ]
  },
  {
   "cell_type": "code",
   "execution_count": 12,
   "id": "c50322e9",
   "metadata": {},
   "outputs": [
    {
     "data": {
      "text/plain": [
       "Index(['a', 'b', 'c', 'd'], dtype='object')"
      ]
     },
     "execution_count": 12,
     "metadata": {},
     "output_type": "execute_result"
    }
   ],
   "source": [
    "data.index"
   ]
  },
  {
   "cell_type": "markdown",
   "id": "8fb4dd90",
   "metadata": {},
   "source": [
    "# Calling explicit and implicit index data"
   ]
  },
  {
   "cell_type": "code",
   "execution_count": 13,
   "id": "e63f12f3",
   "metadata": {},
   "outputs": [
    {
     "data": {
      "text/plain": [
       "0.25"
      ]
     },
     "execution_count": 13,
     "metadata": {},
     "output_type": "execute_result"
    }
   ],
   "source": [
    "# index eksplicit\n",
    "data['a']"
   ]
  },
  {
   "cell_type": "markdown",
   "id": "3fa20921",
   "metadata": {},
   "source": [
    "- This is data selection.\n",
    "- Even though we have created an explicit index, we can still call the implicit index"
   ]
  },
  {
   "cell_type": "code",
   "execution_count": 14,
   "id": "51dc788e",
   "metadata": {},
   "outputs": [
    {
     "data": {
      "text/plain": [
       "1.0"
      ]
     },
     "execution_count": 14,
     "metadata": {},
     "output_type": "execute_result"
    }
   ],
   "source": [
    "# index implicit\n",
    "data[3]"
   ]
  },
  {
   "cell_type": "markdown",
   "id": "3f609f7c",
   "metadata": {},
   "source": [
    "When the implicit index and explicit index are the same, when calling the data it will only rely on the explicit index"
   ]
  },
  {
   "cell_type": "code",
   "execution_count": 15,
   "id": "1b552df2",
   "metadata": {},
   "outputs": [],
   "source": [
    "data_2 = pd.Series([0.25, 0.50, 0.75, 1], index=[2, 5, 3, 7])"
   ]
  },
  {
   "cell_type": "code",
   "execution_count": 16,
   "id": "e8c208d0",
   "metadata": {},
   "outputs": [
    {
     "data": {
      "text/plain": [
       "0.25"
      ]
     },
     "execution_count": 16,
     "metadata": {},
     "output_type": "execute_result"
    }
   ],
   "source": [
    "data_2[2]"
   ]
  },
  {
   "cell_type": "code",
   "execution_count": null,
   "id": "e849a192",
   "metadata": {},
   "outputs": [],
   "source": [
    "data_2[0] # error"
   ]
  },
  {
   "cell_type": "markdown",
   "id": "70fcb0a2",
   "metadata": {},
   "source": [
    "We will try to do data slicing"
   ]
  },
  {
   "cell_type": "code",
   "execution_count": 17,
   "id": "90e9ce5c",
   "metadata": {},
   "outputs": [],
   "source": [
    "data = pd.Series([0.25, 0.50, 0.75, 1], index=['a', 'b', 'c', 'd'])"
   ]
  },
  {
   "cell_type": "code",
   "execution_count": 18,
   "id": "66df88e0",
   "metadata": {},
   "outputs": [
    {
     "data": {
      "text/plain": [
       "a    0.25\n",
       "b    0.50\n",
       "c    0.75\n",
       "d    1.00\n",
       "dtype: float64"
      ]
     },
     "execution_count": 18,
     "metadata": {},
     "output_type": "execute_result"
    }
   ],
   "source": [
    "data"
   ]
  },
  {
   "cell_type": "markdown",
   "id": "dc384c91",
   "metadata": {},
   "source": [
    "for example, we will call from data b to data c"
   ]
  },
  {
   "cell_type": "code",
   "execution_count": 19,
   "id": "a8d359aa",
   "metadata": {},
   "outputs": [
    {
     "data": {
      "text/plain": [
       "b    0.50\n",
       "c    0.75\n",
       "dtype: float64"
      ]
     },
     "execution_count": 19,
     "metadata": {},
     "output_type": "execute_result"
    }
   ],
   "source": [
    "data['b' : 'c'] # index eksplicit"
   ]
  },
  {
   "cell_type": "markdown",
   "id": "3604c779",
   "metadata": {},
   "source": [
    "but if we slice the implicit index, only the starting point will appear because the implicit index is a range"
   ]
  },
  {
   "cell_type": "code",
   "execution_count": 20,
   "id": "e05e308e",
   "metadata": {},
   "outputs": [
    {
     "data": {
      "text/plain": [
       "b    0.5\n",
       "dtype: float64"
      ]
     },
     "execution_count": 20,
     "metadata": {},
     "output_type": "execute_result"
    }
   ],
   "source": [
    "data[1:2] # index implicit"
   ]
  },
  {
   "cell_type": "markdown",
   "id": "35fe16a4",
   "metadata": {},
   "source": [
    "# loc dan iloc"
   ]
  },
  {
   "cell_type": "markdown",
   "id": "c65342e4",
   "metadata": {},
   "source": [
    "The main difference between loc and iloc is in the way they access the data. loc uses explicit labels/indices, while iloc uses implicit positions/indices."
   ]
  },
  {
   "cell_type": "markdown",
   "id": "1e8a548c",
   "metadata": {},
   "source": [
    "When we access an index, what appears is the explicit index"
   ]
  },
  {
   "cell_type": "code",
   "execution_count": 21,
   "id": "cbcf5f28",
   "metadata": {},
   "outputs": [],
   "source": [
    "data_2 = pd.Series([0.25, 0.50, 0.75, 1], index=[2, 5, 3, 7])"
   ]
  },
  {
   "cell_type": "code",
   "execution_count": 22,
   "id": "92a5fb7d",
   "metadata": {},
   "outputs": [
    {
     "data": {
      "text/plain": [
       "0.25"
      ]
     },
     "execution_count": 22,
     "metadata": {},
     "output_type": "execute_result"
    }
   ],
   "source": [
    "data_2[2] # index eksplicit : slicing"
   ]
  },
  {
   "cell_type": "markdown",
   "id": "24a624b1",
   "metadata": {},
   "source": [
    "When we call the explicit index from index 2 to index 3. The value that appears is precisely from the implicit index"
   ]
  },
  {
   "cell_type": "code",
   "execution_count": 23,
   "id": "bd89171d",
   "metadata": {},
   "outputs": [
    {
     "data": {
      "text/plain": [
       "3    0.75\n",
       "dtype: float64"
      ]
     },
     "execution_count": 23,
     "metadata": {},
     "output_type": "execute_result"
    }
   ],
   "source": [
    "data_2[2:3] # index implicit : slicing"
   ]
  },
  {
   "cell_type": "markdown",
   "id": "bcc08a44",
   "metadata": {},
   "source": [
    "- When the explicit index and implicit index are the same, inconsistencies will occur as in the case above\n",
    "- To overcome this inconsistency, we will use the loc and iloc rules\n",
    "- loc is to call its explicit index\n",
    "- iloc is for calling its implicit index"
   ]
  },
  {
   "cell_type": "code",
   "execution_count": 24,
   "id": "e8b83575",
   "metadata": {},
   "outputs": [
    {
     "data": {
      "text/plain": [
       "0.75"
      ]
     },
     "execution_count": 24,
     "metadata": {},
     "output_type": "execute_result"
    }
   ],
   "source": [
    "# loc\n",
    "data_2.loc[3] # selecting index eksplicit"
   ]
  },
  {
   "cell_type": "code",
   "execution_count": 25,
   "id": "9f99ddf1",
   "metadata": {},
   "outputs": [
    {
     "data": {
      "text/plain": [
       "2    0.25\n",
       "5    0.50\n",
       "3    0.75\n",
       "dtype: float64"
      ]
     },
     "execution_count": 25,
     "metadata": {},
     "output_type": "execute_result"
    }
   ],
   "source": [
    "data_2.loc[2:3] # slicing index eksplicit"
   ]
  },
  {
   "cell_type": "code",
   "execution_count": 26,
   "id": "63b612da",
   "metadata": {},
   "outputs": [
    {
     "data": {
      "text/plain": [
       "1.0"
      ]
     },
     "execution_count": 26,
     "metadata": {},
     "output_type": "execute_result"
    }
   ],
   "source": [
    "# iloc\n",
    "data_2.iloc[3] # selecting index implicit"
   ]
  },
  {
   "cell_type": "code",
   "execution_count": 27,
   "id": "36bf8f94",
   "metadata": {},
   "outputs": [
    {
     "data": {
      "text/plain": [
       "3    0.75\n",
       "dtype: float64"
      ]
     },
     "execution_count": 27,
     "metadata": {},
     "output_type": "execute_result"
    }
   ],
   "source": [
    "data_2.iloc[2:3] # slicing index implicit"
   ]
  },
  {
   "cell_type": "code",
   "execution_count": 28,
   "id": "3873348a",
   "metadata": {},
   "outputs": [],
   "source": [
    "dict_populasi = {'Jakarta':750, \n",
    "                 'Bogor':490,\n",
    "                 'Depok':350,\n",
    "                 'Tanggerang':270,\n",
    "                 'Bekasi':670}"
   ]
  },
  {
   "cell_type": "code",
   "execution_count": 29,
   "id": "fdbc3782",
   "metadata": {},
   "outputs": [
    {
     "data": {
      "text/plain": [
       "{'Jakarta': 750, 'Bogor': 490, 'Depok': 350, 'Tanggerang': 270, 'Bekasi': 670}"
      ]
     },
     "execution_count": 29,
     "metadata": {},
     "output_type": "execute_result"
    }
   ],
   "source": [
    "dict_populasi"
   ]
  },
  {
   "cell_type": "code",
   "execution_count": 30,
   "id": "d081b757",
   "metadata": {},
   "outputs": [],
   "source": [
    "# dictionary to series transformation\n",
    "populasi = pd.Series(dict_populasi)"
   ]
  },
  {
   "cell_type": "code",
   "execution_count": 31,
   "id": "15224cb6",
   "metadata": {},
   "outputs": [
    {
     "data": {
      "text/plain": [
       "Jakarta       750\n",
       "Bogor         490\n",
       "Depok         350\n",
       "Tanggerang    270\n",
       "Bekasi        670\n",
       "dtype: int64"
      ]
     },
     "execution_count": 31,
     "metadata": {},
     "output_type": "execute_result"
    }
   ],
   "source": [
    "populasi"
   ]
  },
  {
   "cell_type": "code",
   "execution_count": 32,
   "id": "a26b7228",
   "metadata": {},
   "outputs": [
    {
     "data": {
      "text/plain": [
       "350"
      ]
     },
     "execution_count": 32,
     "metadata": {},
     "output_type": "execute_result"
    }
   ],
   "source": [
    "populasi.loc['Depok']"
   ]
  },
  {
   "cell_type": "code",
   "execution_count": 33,
   "id": "35b5b0b6",
   "metadata": {},
   "outputs": [
    {
     "data": {
      "text/plain": [
       "350"
      ]
     },
     "execution_count": 33,
     "metadata": {},
     "output_type": "execute_result"
    }
   ],
   "source": [
    "populasi.iloc[2]"
   ]
  },
  {
   "cell_type": "code",
   "execution_count": 34,
   "id": "0063e321",
   "metadata": {},
   "outputs": [],
   "source": [
    "dict_luas = {'Jakarta':737, \n",
    "                 'Bogor':325,\n",
    "                 'Depok':247,\n",
    "                 'Tanggerang':302,\n",
    "                 'Bekasi':355}"
   ]
  },
  {
   "cell_type": "code",
   "execution_count": 35,
   "id": "7426ee22",
   "metadata": {},
   "outputs": [],
   "source": [
    "luas = pd.Series(dict_luas)"
   ]
  },
  {
   "cell_type": "code",
   "execution_count": 36,
   "id": "9e99962e",
   "metadata": {},
   "outputs": [
    {
     "data": {
      "text/plain": [
       "Jakarta       737\n",
       "Bogor         325\n",
       "Depok         247\n",
       "Tanggerang    302\n",
       "Bekasi        355\n",
       "dtype: int64"
      ]
     },
     "execution_count": 36,
     "metadata": {},
     "output_type": "execute_result"
    }
   ],
   "source": [
    "luas"
   ]
  },
  {
   "cell_type": "markdown",
   "id": "eb1f4095",
   "metadata": {},
   "source": [
    "# DataFrame"
   ]
  },
  {
   "cell_type": "markdown",
   "id": "ea6f4bd3",
   "metadata": {},
   "source": [
    "DataFrame is a collection of series with at least one series"
   ]
  },
  {
   "cell_type": "code",
   "execution_count": 37,
   "id": "43c7fd8c",
   "metadata": {},
   "outputs": [],
   "source": [
    "daerah = pd.DataFrame({'pop':populasi, 'luas daerah':luas})"
   ]
  },
  {
   "cell_type": "code",
   "execution_count": 38,
   "id": "b7271feb",
   "metadata": {},
   "outputs": [
    {
     "data": {
      "text/html": [
       "<div>\n",
       "<style scoped>\n",
       "    .dataframe tbody tr th:only-of-type {\n",
       "        vertical-align: middle;\n",
       "    }\n",
       "\n",
       "    .dataframe tbody tr th {\n",
       "        vertical-align: top;\n",
       "    }\n",
       "\n",
       "    .dataframe thead th {\n",
       "        text-align: right;\n",
       "    }\n",
       "</style>\n",
       "<table border=\"1\" class=\"dataframe\">\n",
       "  <thead>\n",
       "    <tr style=\"text-align: right;\">\n",
       "      <th></th>\n",
       "      <th>pop</th>\n",
       "      <th>luas daerah</th>\n",
       "    </tr>\n",
       "  </thead>\n",
       "  <tbody>\n",
       "    <tr>\n",
       "      <th>Jakarta</th>\n",
       "      <td>750</td>\n",
       "      <td>737</td>\n",
       "    </tr>\n",
       "    <tr>\n",
       "      <th>Bogor</th>\n",
       "      <td>490</td>\n",
       "      <td>325</td>\n",
       "    </tr>\n",
       "    <tr>\n",
       "      <th>Depok</th>\n",
       "      <td>350</td>\n",
       "      <td>247</td>\n",
       "    </tr>\n",
       "    <tr>\n",
       "      <th>Tanggerang</th>\n",
       "      <td>270</td>\n",
       "      <td>302</td>\n",
       "    </tr>\n",
       "    <tr>\n",
       "      <th>Bekasi</th>\n",
       "      <td>670</td>\n",
       "      <td>355</td>\n",
       "    </tr>\n",
       "  </tbody>\n",
       "</table>\n",
       "</div>"
      ],
      "text/plain": [
       "            pop  luas daerah\n",
       "Jakarta     750          737\n",
       "Bogor       490          325\n",
       "Depok       350          247\n",
       "Tanggerang  270          302\n",
       "Bekasi      670          355"
      ]
     },
     "execution_count": 38,
     "metadata": {},
     "output_type": "execute_result"
    }
   ],
   "source": [
    "daerah"
   ]
  },
  {
   "cell_type": "code",
   "execution_count": 39,
   "id": "dcf58219",
   "metadata": {},
   "outputs": [
    {
     "data": {
      "text/plain": [
       "Jakarta       737\n",
       "Bogor         325\n",
       "Depok         247\n",
       "Tanggerang    302\n",
       "Bekasi        355\n",
       "Name: luas daerah, dtype: int64"
      ]
     },
     "execution_count": 39,
     "metadata": {},
     "output_type": "execute_result"
    }
   ],
   "source": [
    "daerah['luas daerah']"
   ]
  },
  {
   "cell_type": "code",
   "execution_count": 40,
   "id": "e5d45e62",
   "metadata": {},
   "outputs": [
    {
     "data": {
      "text/plain": [
       "737"
      ]
     },
     "execution_count": 40,
     "metadata": {},
     "output_type": "execute_result"
    }
   ],
   "source": [
    "daerah['luas daerah']['Jakarta']"
   ]
  },
  {
   "cell_type": "markdown",
   "id": "fec48e1f",
   "metadata": {},
   "source": [
    "When calling data with the regional.pop syntax it will appear as below"
   ]
  },
  {
   "cell_type": "code",
   "execution_count": 41,
   "id": "50f04886",
   "metadata": {},
   "outputs": [
    {
     "data": {
      "text/plain": [
       "<bound method DataFrame.pop of             pop  luas daerah\n",
       "Jakarta     750          737\n",
       "Bogor       490          325\n",
       "Depok       350          247\n",
       "Tanggerang  270          302\n",
       "Bekasi      670          355>"
      ]
     },
     "execution_count": 41,
     "metadata": {},
     "output_type": "execute_result"
    }
   ],
   "source": [
    "daerah.pop"
   ]
  },
  {
   "cell_type": "markdown",
   "id": "d9682288",
   "metadata": {},
   "source": [
    "because pop is the same as the function name in the DataFrame"
   ]
  },
  {
   "cell_type": "markdown",
   "id": "875fc157",
   "metadata": {},
   "source": [
    "So it is safer to call data with the syntax area ['populasi']"
   ]
  },
  {
   "cell_type": "code",
   "execution_count": 42,
   "id": "91bf766f",
   "metadata": {},
   "outputs": [
    {
     "data": {
      "text/plain": [
       "Jakarta       750\n",
       "Bogor         490\n",
       "Depok         350\n",
       "Tanggerang    270\n",
       "Bekasi        670\n",
       "Name: pop, dtype: int64"
      ]
     },
     "execution_count": 42,
     "metadata": {},
     "output_type": "execute_result"
    }
   ],
   "source": [
    "daerah['pop']"
   ]
  },
  {
   "cell_type": "markdown",
   "id": "84b7f5ff",
   "metadata": {},
   "source": [
    "Renamed column pop to populasi"
   ]
  },
  {
   "cell_type": "code",
   "execution_count": 43,
   "id": "3e367073",
   "metadata": {},
   "outputs": [],
   "source": [
    "daerah = pd.DataFrame({'populasi':populasi, 'luas':luas})"
   ]
  },
  {
   "cell_type": "code",
   "execution_count": 44,
   "id": "29c4308c",
   "metadata": {},
   "outputs": [
    {
     "data": {
      "text/html": [
       "<div>\n",
       "<style scoped>\n",
       "    .dataframe tbody tr th:only-of-type {\n",
       "        vertical-align: middle;\n",
       "    }\n",
       "\n",
       "    .dataframe tbody tr th {\n",
       "        vertical-align: top;\n",
       "    }\n",
       "\n",
       "    .dataframe thead th {\n",
       "        text-align: right;\n",
       "    }\n",
       "</style>\n",
       "<table border=\"1\" class=\"dataframe\">\n",
       "  <thead>\n",
       "    <tr style=\"text-align: right;\">\n",
       "      <th></th>\n",
       "      <th>populasi</th>\n",
       "      <th>luas</th>\n",
       "    </tr>\n",
       "  </thead>\n",
       "  <tbody>\n",
       "    <tr>\n",
       "      <th>Jakarta</th>\n",
       "      <td>750</td>\n",
       "      <td>737</td>\n",
       "    </tr>\n",
       "    <tr>\n",
       "      <th>Bogor</th>\n",
       "      <td>490</td>\n",
       "      <td>325</td>\n",
       "    </tr>\n",
       "    <tr>\n",
       "      <th>Depok</th>\n",
       "      <td>350</td>\n",
       "      <td>247</td>\n",
       "    </tr>\n",
       "    <tr>\n",
       "      <th>Tanggerang</th>\n",
       "      <td>270</td>\n",
       "      <td>302</td>\n",
       "    </tr>\n",
       "    <tr>\n",
       "      <th>Bekasi</th>\n",
       "      <td>670</td>\n",
       "      <td>355</td>\n",
       "    </tr>\n",
       "  </tbody>\n",
       "</table>\n",
       "</div>"
      ],
      "text/plain": [
       "            populasi  luas\n",
       "Jakarta          750   737\n",
       "Bogor            490   325\n",
       "Depok            350   247\n",
       "Tanggerang       270   302\n",
       "Bekasi           670   355"
      ]
     },
     "execution_count": 44,
     "metadata": {},
     "output_type": "execute_result"
    }
   ],
   "source": [
    "daerah"
   ]
  },
  {
   "cell_type": "code",
   "execution_count": 45,
   "id": "c45af0c3",
   "metadata": {},
   "outputs": [
    {
     "data": {
      "text/plain": [
       "Jakarta       750\n",
       "Bogor         490\n",
       "Depok         350\n",
       "Tanggerang    270\n",
       "Bekasi        670\n",
       "Name: populasi, dtype: int64"
      ]
     },
     "execution_count": 45,
     "metadata": {},
     "output_type": "execute_result"
    }
   ],
   "source": [
    "daerah['populasi']"
   ]
  },
  {
   "cell_type": "code",
   "execution_count": 46,
   "id": "f73643d9",
   "metadata": {},
   "outputs": [
    {
     "data": {
      "text/plain": [
       "Jakarta    750\n",
       "Bogor      490\n",
       "Depok      350\n",
       "Name: populasi, dtype: int64"
      ]
     },
     "execution_count": 46,
     "metadata": {},
     "output_type": "execute_result"
    }
   ],
   "source": [
    "daerah['populasi']['Jakarta':'Depok'] # indeks eksplisit"
   ]
  },
  {
   "cell_type": "code",
   "execution_count": 47,
   "id": "47e67c46",
   "metadata": {},
   "outputs": [
    {
     "data": {
      "text/plain": [
       "Jakarta    750\n",
       "Bogor      490\n",
       "Depok      350\n",
       "Name: populasi, dtype: int64"
      ]
     },
     "execution_count": 47,
     "metadata": {},
     "output_type": "execute_result"
    }
   ],
   "source": [
    "daerah['populasi'].iloc[0:3] # indeks implisit"
   ]
  },
  {
   "cell_type": "markdown",
   "id": "bea0015c",
   "metadata": {},
   "source": [
    "# Load Data"
   ]
  },
  {
   "cell_type": "code",
   "execution_count": 48,
   "id": "4b308f37",
   "metadata": {},
   "outputs": [],
   "source": [
    "# Load data Titanic\n",
    "df = pd.read_csv('Titanic.csv')"
   ]
  },
  {
   "cell_type": "markdown",
   "id": "47d090c9",
   "metadata": {},
   "source": [
    "# Display Data"
   ]
  },
  {
   "cell_type": "code",
   "execution_count": 49,
   "id": "ad0b3a5c",
   "metadata": {},
   "outputs": [
    {
     "data": {
      "text/html": [
       "<div>\n",
       "<style scoped>\n",
       "    .dataframe tbody tr th:only-of-type {\n",
       "        vertical-align: middle;\n",
       "    }\n",
       "\n",
       "    .dataframe tbody tr th {\n",
       "        vertical-align: top;\n",
       "    }\n",
       "\n",
       "    .dataframe thead th {\n",
       "        text-align: right;\n",
       "    }\n",
       "</style>\n",
       "<table border=\"1\" class=\"dataframe\">\n",
       "  <thead>\n",
       "    <tr style=\"text-align: right;\">\n",
       "      <th></th>\n",
       "      <th>PassengerId</th>\n",
       "      <th>Survived</th>\n",
       "      <th>Pclass</th>\n",
       "      <th>Name</th>\n",
       "      <th>Sex</th>\n",
       "      <th>Age</th>\n",
       "      <th>SibSp</th>\n",
       "      <th>Parch</th>\n",
       "      <th>Ticket</th>\n",
       "      <th>Fare</th>\n",
       "      <th>Cabin</th>\n",
       "      <th>Embarked</th>\n",
       "    </tr>\n",
       "  </thead>\n",
       "  <tbody>\n",
       "    <tr>\n",
       "      <th>0</th>\n",
       "      <td>1</td>\n",
       "      <td>0</td>\n",
       "      <td>3</td>\n",
       "      <td>Braund, Mr. Owen Harris</td>\n",
       "      <td>male</td>\n",
       "      <td>22.0</td>\n",
       "      <td>1</td>\n",
       "      <td>0</td>\n",
       "      <td>A/5 21171</td>\n",
       "      <td>7.2500</td>\n",
       "      <td>NaN</td>\n",
       "      <td>S</td>\n",
       "    </tr>\n",
       "    <tr>\n",
       "      <th>1</th>\n",
       "      <td>2</td>\n",
       "      <td>1</td>\n",
       "      <td>1</td>\n",
       "      <td>Cumings, Mrs. John Bradley (Florence Briggs Th...</td>\n",
       "      <td>female</td>\n",
       "      <td>38.0</td>\n",
       "      <td>1</td>\n",
       "      <td>0</td>\n",
       "      <td>PC 17599</td>\n",
       "      <td>71.2833</td>\n",
       "      <td>C85</td>\n",
       "      <td>C</td>\n",
       "    </tr>\n",
       "    <tr>\n",
       "      <th>2</th>\n",
       "      <td>3</td>\n",
       "      <td>1</td>\n",
       "      <td>3</td>\n",
       "      <td>Heikkinen, Miss. Laina</td>\n",
       "      <td>female</td>\n",
       "      <td>26.0</td>\n",
       "      <td>0</td>\n",
       "      <td>0</td>\n",
       "      <td>STON/O2. 3101282</td>\n",
       "      <td>7.9250</td>\n",
       "      <td>NaN</td>\n",
       "      <td>S</td>\n",
       "    </tr>\n",
       "    <tr>\n",
       "      <th>3</th>\n",
       "      <td>4</td>\n",
       "      <td>1</td>\n",
       "      <td>1</td>\n",
       "      <td>Futrelle, Mrs. Jacques Heath (Lily May Peel)</td>\n",
       "      <td>female</td>\n",
       "      <td>35.0</td>\n",
       "      <td>1</td>\n",
       "      <td>0</td>\n",
       "      <td>113803</td>\n",
       "      <td>53.1000</td>\n",
       "      <td>C123</td>\n",
       "      <td>S</td>\n",
       "    </tr>\n",
       "    <tr>\n",
       "      <th>4</th>\n",
       "      <td>5</td>\n",
       "      <td>0</td>\n",
       "      <td>3</td>\n",
       "      <td>Allen, Mr. William Henry</td>\n",
       "      <td>male</td>\n",
       "      <td>35.0</td>\n",
       "      <td>0</td>\n",
       "      <td>0</td>\n",
       "      <td>373450</td>\n",
       "      <td>8.0500</td>\n",
       "      <td>NaN</td>\n",
       "      <td>S</td>\n",
       "    </tr>\n",
       "  </tbody>\n",
       "</table>\n",
       "</div>"
      ],
      "text/plain": [
       "   PassengerId  Survived  Pclass  \\\n",
       "0            1         0       3   \n",
       "1            2         1       1   \n",
       "2            3         1       3   \n",
       "3            4         1       1   \n",
       "4            5         0       3   \n",
       "\n",
       "                                                Name     Sex   Age  SibSp  \\\n",
       "0                            Braund, Mr. Owen Harris    male  22.0      1   \n",
       "1  Cumings, Mrs. John Bradley (Florence Briggs Th...  female  38.0      1   \n",
       "2                             Heikkinen, Miss. Laina  female  26.0      0   \n",
       "3       Futrelle, Mrs. Jacques Heath (Lily May Peel)  female  35.0      1   \n",
       "4                           Allen, Mr. William Henry    male  35.0      0   \n",
       "\n",
       "   Parch            Ticket     Fare Cabin Embarked  \n",
       "0      0         A/5 21171   7.2500   NaN        S  \n",
       "1      0          PC 17599  71.2833   C85        C  \n",
       "2      0  STON/O2. 3101282   7.9250   NaN        S  \n",
       "3      0            113803  53.1000  C123        S  \n",
       "4      0            373450   8.0500   NaN        S  "
      ]
     },
     "execution_count": 49,
     "metadata": {},
     "output_type": "execute_result"
    }
   ],
   "source": [
    "# Looking at the top data\n",
    "df.head()"
   ]
  },
  {
   "cell_type": "code",
   "execution_count": 50,
   "id": "01c86789",
   "metadata": {},
   "outputs": [
    {
     "data": {
      "text/html": [
       "<div>\n",
       "<style scoped>\n",
       "    .dataframe tbody tr th:only-of-type {\n",
       "        vertical-align: middle;\n",
       "    }\n",
       "\n",
       "    .dataframe tbody tr th {\n",
       "        vertical-align: top;\n",
       "    }\n",
       "\n",
       "    .dataframe thead th {\n",
       "        text-align: right;\n",
       "    }\n",
       "</style>\n",
       "<table border=\"1\" class=\"dataframe\">\n",
       "  <thead>\n",
       "    <tr style=\"text-align: right;\">\n",
       "      <th></th>\n",
       "      <th>PassengerId</th>\n",
       "      <th>Survived</th>\n",
       "      <th>Pclass</th>\n",
       "      <th>Name</th>\n",
       "      <th>Sex</th>\n",
       "      <th>Age</th>\n",
       "      <th>SibSp</th>\n",
       "      <th>Parch</th>\n",
       "      <th>Ticket</th>\n",
       "      <th>Fare</th>\n",
       "      <th>Cabin</th>\n",
       "      <th>Embarked</th>\n",
       "    </tr>\n",
       "  </thead>\n",
       "  <tbody>\n",
       "    <tr>\n",
       "      <th>886</th>\n",
       "      <td>887</td>\n",
       "      <td>0</td>\n",
       "      <td>2</td>\n",
       "      <td>Montvila, Rev. Juozas</td>\n",
       "      <td>male</td>\n",
       "      <td>27.0</td>\n",
       "      <td>0</td>\n",
       "      <td>0</td>\n",
       "      <td>211536</td>\n",
       "      <td>13.00</td>\n",
       "      <td>NaN</td>\n",
       "      <td>S</td>\n",
       "    </tr>\n",
       "    <tr>\n",
       "      <th>887</th>\n",
       "      <td>888</td>\n",
       "      <td>1</td>\n",
       "      <td>1</td>\n",
       "      <td>Graham, Miss. Margaret Edith</td>\n",
       "      <td>female</td>\n",
       "      <td>19.0</td>\n",
       "      <td>0</td>\n",
       "      <td>0</td>\n",
       "      <td>112053</td>\n",
       "      <td>30.00</td>\n",
       "      <td>B42</td>\n",
       "      <td>S</td>\n",
       "    </tr>\n",
       "    <tr>\n",
       "      <th>888</th>\n",
       "      <td>889</td>\n",
       "      <td>0</td>\n",
       "      <td>3</td>\n",
       "      <td>Johnston, Miss. Catherine Helen \"Carrie\"</td>\n",
       "      <td>female</td>\n",
       "      <td>NaN</td>\n",
       "      <td>1</td>\n",
       "      <td>2</td>\n",
       "      <td>W./C. 6607</td>\n",
       "      <td>23.45</td>\n",
       "      <td>NaN</td>\n",
       "      <td>S</td>\n",
       "    </tr>\n",
       "    <tr>\n",
       "      <th>889</th>\n",
       "      <td>890</td>\n",
       "      <td>1</td>\n",
       "      <td>1</td>\n",
       "      <td>Behr, Mr. Karl Howell</td>\n",
       "      <td>male</td>\n",
       "      <td>26.0</td>\n",
       "      <td>0</td>\n",
       "      <td>0</td>\n",
       "      <td>111369</td>\n",
       "      <td>30.00</td>\n",
       "      <td>C148</td>\n",
       "      <td>C</td>\n",
       "    </tr>\n",
       "    <tr>\n",
       "      <th>890</th>\n",
       "      <td>891</td>\n",
       "      <td>0</td>\n",
       "      <td>3</td>\n",
       "      <td>Dooley, Mr. Patrick</td>\n",
       "      <td>male</td>\n",
       "      <td>32.0</td>\n",
       "      <td>0</td>\n",
       "      <td>0</td>\n",
       "      <td>370376</td>\n",
       "      <td>7.75</td>\n",
       "      <td>NaN</td>\n",
       "      <td>Q</td>\n",
       "    </tr>\n",
       "  </tbody>\n",
       "</table>\n",
       "</div>"
      ],
      "text/plain": [
       "     PassengerId  Survived  Pclass                                      Name  \\\n",
       "886          887         0       2                     Montvila, Rev. Juozas   \n",
       "887          888         1       1              Graham, Miss. Margaret Edith   \n",
       "888          889         0       3  Johnston, Miss. Catherine Helen \"Carrie\"   \n",
       "889          890         1       1                     Behr, Mr. Karl Howell   \n",
       "890          891         0       3                       Dooley, Mr. Patrick   \n",
       "\n",
       "        Sex   Age  SibSp  Parch      Ticket   Fare Cabin Embarked  \n",
       "886    male  27.0      0      0      211536  13.00   NaN        S  \n",
       "887  female  19.0      0      0      112053  30.00   B42        S  \n",
       "888  female   NaN      1      2  W./C. 6607  23.45   NaN        S  \n",
       "889    male  26.0      0      0      111369  30.00  C148        C  \n",
       "890    male  32.0      0      0      370376   7.75   NaN        Q  "
      ]
     },
     "execution_count": 50,
     "metadata": {},
     "output_type": "execute_result"
    }
   ],
   "source": [
    "# Look at the data from the bottom\n",
    "df.tail()"
   ]
  },
  {
   "cell_type": "markdown",
   "id": "4795df48",
   "metadata": {},
   "source": [
    "# Viewing Data Info"
   ]
  },
  {
   "cell_type": "code",
   "execution_count": 51,
   "id": "d1371bc4",
   "metadata": {},
   "outputs": [
    {
     "name": "stdout",
     "output_type": "stream",
     "text": [
      "<class 'pandas.core.frame.DataFrame'>\n",
      "RangeIndex: 891 entries, 0 to 890\n",
      "Data columns (total 12 columns):\n",
      " #   Column       Non-Null Count  Dtype  \n",
      "---  ------       --------------  -----  \n",
      " 0   PassengerId  891 non-null    int64  \n",
      " 1   Survived     891 non-null    int64  \n",
      " 2   Pclass       891 non-null    int64  \n",
      " 3   Name         891 non-null    object \n",
      " 4   Sex          891 non-null    object \n",
      " 5   Age          714 non-null    float64\n",
      " 6   SibSp        891 non-null    int64  \n",
      " 7   Parch        891 non-null    int64  \n",
      " 8   Ticket       891 non-null    object \n",
      " 9   Fare         891 non-null    float64\n",
      " 10  Cabin        204 non-null    object \n",
      " 11  Embarked     889 non-null    object \n",
      "dtypes: float64(2), int64(5), object(5)\n",
      "memory usage: 83.7+ KB\n"
     ]
    }
   ],
   "source": [
    "df.info()"
   ]
  },
  {
   "cell_type": "markdown",
   "id": "4df6f8dc",
   "metadata": {},
   "source": [
    "# Viewing Non Null Counts"
   ]
  },
  {
   "cell_type": "code",
   "execution_count": 52,
   "id": "20ee395f",
   "metadata": {},
   "outputs": [
    {
     "data": {
      "text/plain": [
       "PassengerId    891\n",
       "Survived       891\n",
       "Pclass         891\n",
       "Name           891\n",
       "Sex            891\n",
       "Age            714\n",
       "SibSp          891\n",
       "Parch          891\n",
       "Ticket         891\n",
       "Fare           891\n",
       "Cabin          204\n",
       "Embarked       889\n",
       "dtype: int64"
      ]
     },
     "execution_count": 52,
     "metadata": {},
     "output_type": "execute_result"
    }
   ],
   "source": [
    "# View the number of non-nulls in the data\n",
    "# Not Null is data that is not empty\n",
    "df.notnull().sum()"
   ]
  },
  {
   "cell_type": "markdown",
   "id": "b8cb278e",
   "metadata": {},
   "source": [
    "# Looking at the Number of NaN"
   ]
  },
  {
   "cell_type": "code",
   "execution_count": 53,
   "id": "b16edcd8",
   "metadata": {},
   "outputs": [
    {
     "data": {
      "text/plain": [
       "PassengerId      0\n",
       "Survived         0\n",
       "Pclass           0\n",
       "Name             0\n",
       "Sex              0\n",
       "Age            177\n",
       "SibSp            0\n",
       "Parch            0\n",
       "Ticket           0\n",
       "Fare             0\n",
       "Cabin          687\n",
       "Embarked         2\n",
       "dtype: int64"
      ]
     },
     "execution_count": 53,
     "metadata": {},
     "output_type": "execute_result"
    }
   ],
   "source": [
    "# View the number of NaN from the data\n",
    "# Missing value\n",
    "# NaN is non-empty data but unknown data\n",
    "df.isnull().sum()"
   ]
  },
  {
   "cell_type": "markdown",
   "id": "fcaa6a5c",
   "metadata": {},
   "source": [
    "# View the amount of data"
   ]
  },
  {
   "cell_type": "code",
   "execution_count": 54,
   "id": "cbf1f9a1",
   "metadata": {},
   "outputs": [
    {
     "name": "stderr",
     "output_type": "stream",
     "text": [
      "C:\\Users\\ninys\\AppData\\Local\\Temp\\ipykernel_3736\\523087127.py:3: FutureWarning: The default value of numeric_only in DataFrame.sum is deprecated. In a future version, it will default to False. In addition, specifying 'numeric_only=None' is deprecated. Select only valid columns or specify the value of numeric_only to silence this warning.\n",
      "  df.sum()\n"
     ]
    },
    {
     "data": {
      "text/plain": [
       "PassengerId                                               397386\n",
       "Survived                                                     342\n",
       "Pclass                                                      2057\n",
       "Name           Braund, Mr. Owen HarrisCumings, Mrs. John Brad...\n",
       "Sex            malefemalefemalefemalemalemalemalemalefemalefe...\n",
       "Age                                                     21205.17\n",
       "SibSp                                                        466\n",
       "Parch                                                        340\n",
       "Ticket         A/5 21171PC 17599STON/O2. 31012821138033734503...\n",
       "Fare                                                  28693.9493\n",
       "dtype: object"
      ]
     },
     "execution_count": 54,
     "metadata": {},
     "output_type": "execute_result"
    }
   ],
   "source": [
    "# View the amount of data\n",
    "# Not recommended because it is not clear what you want to see the amount of\n",
    "df.sum()"
   ]
  },
  {
   "cell_type": "markdown",
   "id": "11848847",
   "metadata": {},
   "source": [
    "# View the Number of Rows and Columns"
   ]
  },
  {
   "cell_type": "code",
   "execution_count": 55,
   "id": "7221bcb4",
   "metadata": {},
   "outputs": [
    {
     "data": {
      "text/plain": [
       "(891, 12)"
      ]
     },
     "execution_count": 55,
     "metadata": {},
     "output_type": "execute_result"
    }
   ],
   "source": [
    "df.shape"
   ]
  },
  {
   "cell_type": "markdown",
   "id": "f493dab9",
   "metadata": {},
   "source": [
    "# Look at the column"
   ]
  },
  {
   "cell_type": "code",
   "execution_count": 56,
   "id": "5df765d1",
   "metadata": {},
   "outputs": [
    {
     "data": {
      "text/plain": [
       "Index(['PassengerId', 'Survived', 'Pclass', 'Name', 'Sex', 'Age', 'SibSp',\n",
       "       'Parch', 'Ticket', 'Fare', 'Cabin', 'Embarked'],\n",
       "      dtype='object')"
      ]
     },
     "execution_count": 56,
     "metadata": {},
     "output_type": "execute_result"
    }
   ],
   "source": [
    "df.columns"
   ]
  },
  {
   "cell_type": "markdown",
   "id": "68e33f22",
   "metadata": {},
   "source": [
    "# View Index"
   ]
  },
  {
   "cell_type": "code",
   "execution_count": 57,
   "id": "bb72708a",
   "metadata": {},
   "outputs": [
    {
     "data": {
      "text/plain": [
       "RangeIndex(start=0, stop=891, step=1)"
      ]
     },
     "execution_count": 57,
     "metadata": {},
     "output_type": "execute_result"
    }
   ],
   "source": [
    "df.index"
   ]
  },
  {
   "cell_type": "markdown",
   "id": "522c5aa4",
   "metadata": {},
   "source": [
    "# Describe"
   ]
  },
  {
   "cell_type": "code",
   "execution_count": 58,
   "id": "45bbb369",
   "metadata": {
    "scrolled": true
   },
   "outputs": [
    {
     "data": {
      "text/html": [
       "<div>\n",
       "<style scoped>\n",
       "    .dataframe tbody tr th:only-of-type {\n",
       "        vertical-align: middle;\n",
       "    }\n",
       "\n",
       "    .dataframe tbody tr th {\n",
       "        vertical-align: top;\n",
       "    }\n",
       "\n",
       "    .dataframe thead th {\n",
       "        text-align: right;\n",
       "    }\n",
       "</style>\n",
       "<table border=\"1\" class=\"dataframe\">\n",
       "  <thead>\n",
       "    <tr style=\"text-align: right;\">\n",
       "      <th></th>\n",
       "      <th>PassengerId</th>\n",
       "      <th>Survived</th>\n",
       "      <th>Pclass</th>\n",
       "      <th>Age</th>\n",
       "      <th>SibSp</th>\n",
       "      <th>Parch</th>\n",
       "      <th>Fare</th>\n",
       "    </tr>\n",
       "  </thead>\n",
       "  <tbody>\n",
       "    <tr>\n",
       "      <th>count</th>\n",
       "      <td>891.000000</td>\n",
       "      <td>891.000000</td>\n",
       "      <td>891.000000</td>\n",
       "      <td>714.000000</td>\n",
       "      <td>891.000000</td>\n",
       "      <td>891.000000</td>\n",
       "      <td>891.000000</td>\n",
       "    </tr>\n",
       "    <tr>\n",
       "      <th>mean</th>\n",
       "      <td>446.000000</td>\n",
       "      <td>0.383838</td>\n",
       "      <td>2.308642</td>\n",
       "      <td>29.699118</td>\n",
       "      <td>0.523008</td>\n",
       "      <td>0.381594</td>\n",
       "      <td>32.204208</td>\n",
       "    </tr>\n",
       "    <tr>\n",
       "      <th>std</th>\n",
       "      <td>257.353842</td>\n",
       "      <td>0.486592</td>\n",
       "      <td>0.836071</td>\n",
       "      <td>14.526497</td>\n",
       "      <td>1.102743</td>\n",
       "      <td>0.806057</td>\n",
       "      <td>49.693429</td>\n",
       "    </tr>\n",
       "    <tr>\n",
       "      <th>min</th>\n",
       "      <td>1.000000</td>\n",
       "      <td>0.000000</td>\n",
       "      <td>1.000000</td>\n",
       "      <td>0.420000</td>\n",
       "      <td>0.000000</td>\n",
       "      <td>0.000000</td>\n",
       "      <td>0.000000</td>\n",
       "    </tr>\n",
       "    <tr>\n",
       "      <th>25%</th>\n",
       "      <td>223.500000</td>\n",
       "      <td>0.000000</td>\n",
       "      <td>2.000000</td>\n",
       "      <td>20.125000</td>\n",
       "      <td>0.000000</td>\n",
       "      <td>0.000000</td>\n",
       "      <td>7.910400</td>\n",
       "    </tr>\n",
       "    <tr>\n",
       "      <th>50%</th>\n",
       "      <td>446.000000</td>\n",
       "      <td>0.000000</td>\n",
       "      <td>3.000000</td>\n",
       "      <td>28.000000</td>\n",
       "      <td>0.000000</td>\n",
       "      <td>0.000000</td>\n",
       "      <td>14.454200</td>\n",
       "    </tr>\n",
       "    <tr>\n",
       "      <th>75%</th>\n",
       "      <td>668.500000</td>\n",
       "      <td>1.000000</td>\n",
       "      <td>3.000000</td>\n",
       "      <td>38.000000</td>\n",
       "      <td>1.000000</td>\n",
       "      <td>0.000000</td>\n",
       "      <td>31.000000</td>\n",
       "    </tr>\n",
       "    <tr>\n",
       "      <th>max</th>\n",
       "      <td>891.000000</td>\n",
       "      <td>1.000000</td>\n",
       "      <td>3.000000</td>\n",
       "      <td>80.000000</td>\n",
       "      <td>8.000000</td>\n",
       "      <td>6.000000</td>\n",
       "      <td>512.329200</td>\n",
       "    </tr>\n",
       "  </tbody>\n",
       "</table>\n",
       "</div>"
      ],
      "text/plain": [
       "       PassengerId    Survived      Pclass         Age       SibSp  \\\n",
       "count   891.000000  891.000000  891.000000  714.000000  891.000000   \n",
       "mean    446.000000    0.383838    2.308642   29.699118    0.523008   \n",
       "std     257.353842    0.486592    0.836071   14.526497    1.102743   \n",
       "min       1.000000    0.000000    1.000000    0.420000    0.000000   \n",
       "25%     223.500000    0.000000    2.000000   20.125000    0.000000   \n",
       "50%     446.000000    0.000000    3.000000   28.000000    0.000000   \n",
       "75%     668.500000    1.000000    3.000000   38.000000    1.000000   \n",
       "max     891.000000    1.000000    3.000000   80.000000    8.000000   \n",
       "\n",
       "            Parch        Fare  \n",
       "count  891.000000  891.000000  \n",
       "mean     0.381594   32.204208  \n",
       "std      0.806057   49.693429  \n",
       "min      0.000000    0.000000  \n",
       "25%      0.000000    7.910400  \n",
       "50%      0.000000   14.454200  \n",
       "75%      0.000000   31.000000  \n",
       "max      6.000000  512.329200  "
      ]
     },
     "execution_count": 58,
     "metadata": {},
     "output_type": "execute_result"
    }
   ],
   "source": [
    "# Displays information from columns in the form of numbers\n",
    "df.describe()"
   ]
  },
  {
   "cell_type": "markdown",
   "id": "5fa86936",
   "metadata": {},
   "source": [
    "In the Fare column:\n",
    "\n",
    "1. Count(Amount of Data) = The total number of data in the Fare column is 891, which means that all 891 passengers have information about ticket prices.\n",
    "2. Mean(average) = The average ticket price is around 32.20, meaning we take all the passenger ticket prices and add them up and then divide them by the number of passengers, namely 891, we will get this average.\n",
    "3. The Std on ticket prices is around 49.69, indicating that there is significant variation in ticket prices with some passengers paying far above or below average ticket prices.\n",
    "4. The lowest min ticket price is 0. Indicates that some passengers may have free tickets or there is missing data.\n",
    "5. The max highest ticket price is around 512.33 which represents a top class ticket\n",
    "6. 25%(first quartile) is a value that divides the lowest 25% of ticket prices. The first quartile of ticket prices is around 7.91. This means 25% of passengers paid less than 7.91 for their tickets.\n",
    "7. 50% (Median / Second Quartile) is the middle value of all ticket prices in the dataset. The median ticket price is around 14.45. This means 50% of passengers pay more than this and the other 50% pay less than this.\n",
    "8. 75% (Third Quartile) is a value that divides the highest 25% of ticket price data. The third quartile of ticket prices is around 31.00. This means 25% of passengers paid more than 31.00 for their tickets.\n",
    "\n",
    "This information provides an idea of the variation in ticket prices among Titanic passengers. Can use this information to analyze ticket price distributions, identify passengers with extreme ticket prices, or better understand how ticket costs relate to ticket class or other factors."
   ]
  },
  {
   "cell_type": "markdown",
   "id": "9bb43492",
   "metadata": {},
   "source": [
    "# Column Average"
   ]
  },
  {
   "cell_type": "code",
   "execution_count": 59,
   "id": "5341932e",
   "metadata": {},
   "outputs": [
    {
     "data": {
      "text/plain": [
       "29.69911764705882"
      ]
     },
     "execution_count": 59,
     "metadata": {},
     "output_type": "execute_result"
    }
   ],
   "source": [
    "df['Age'].mean()"
   ]
  },
  {
   "cell_type": "markdown",
   "id": "ba6c3f98",
   "metadata": {},
   "source": [
    "# Column Median"
   ]
  },
  {
   "cell_type": "code",
   "execution_count": 60,
   "id": "8767a570",
   "metadata": {},
   "outputs": [
    {
     "data": {
      "text/plain": [
       "28.0"
      ]
     },
     "execution_count": 60,
     "metadata": {},
     "output_type": "execute_result"
    }
   ],
   "source": [
    "df['Age'].median()"
   ]
  },
  {
   "cell_type": "markdown",
   "id": "d3ef7cb3",
   "metadata": {},
   "source": [
    "# Column Mode"
   ]
  },
  {
   "cell_type": "code",
   "execution_count": 61,
   "id": "a9eb6765",
   "metadata": {},
   "outputs": [
    {
     "data": {
      "text/plain": [
       "24.0"
      ]
     },
     "execution_count": 61,
     "metadata": {},
     "output_type": "execute_result"
    }
   ],
   "source": [
    "df['Age'].mode()[0]"
   ]
  },
  {
   "cell_type": "markdown",
   "id": "e213f9b2",
   "metadata": {},
   "source": [
    "# Minimum column"
   ]
  },
  {
   "cell_type": "code",
   "execution_count": 62,
   "id": "69f6f8c5",
   "metadata": {},
   "outputs": [
    {
     "data": {
      "text/plain": [
       "0.42"
      ]
     },
     "execution_count": 62,
     "metadata": {},
     "output_type": "execute_result"
    }
   ],
   "source": [
    "df['Age'].min()"
   ]
  },
  {
   "cell_type": "markdown",
   "id": "b785de67",
   "metadata": {},
   "source": [
    "# Create a DataFrame from a Series"
   ]
  },
  {
   "cell_type": "code",
   "execution_count": 63,
   "id": "030e476b",
   "metadata": {},
   "outputs": [],
   "source": [
    "nilai_mtk = {'Ninys':100, \n",
    "             'Cristin':90,\n",
    "             'Elsha':92,\n",
    "             'Tria':85}\n",
    "mtk = pd.Series(nilai_mtk)"
   ]
  },
  {
   "cell_type": "code",
   "execution_count": 64,
   "id": "033bf925",
   "metadata": {},
   "outputs": [],
   "source": [
    "nilai_indo = {'Ninys':90, \n",
    "             'Cristin':89,\n",
    "             'Elsha':90,\n",
    "             'Tria':88}\n",
    "indo = pd.Series(nilai_indo)"
   ]
  },
  {
   "cell_type": "code",
   "execution_count": 65,
   "id": "fc2a5a06",
   "metadata": {},
   "outputs": [],
   "source": [
    "nilai_ipa = {'Ninys':95, \n",
    "             'Cristin':92,\n",
    "             'Elsha':94,\n",
    "             'Tria':90}\n",
    "ipa = pd.Series(nilai_ipa)"
   ]
  },
  {
   "cell_type": "code",
   "execution_count": 66,
   "id": "f6a99a25",
   "metadata": {},
   "outputs": [
    {
     "data": {
      "text/html": [
       "<div>\n",
       "<style scoped>\n",
       "    .dataframe tbody tr th:only-of-type {\n",
       "        vertical-align: middle;\n",
       "    }\n",
       "\n",
       "    .dataframe tbody tr th {\n",
       "        vertical-align: top;\n",
       "    }\n",
       "\n",
       "    .dataframe thead th {\n",
       "        text-align: right;\n",
       "    }\n",
       "</style>\n",
       "<table border=\"1\" class=\"dataframe\">\n",
       "  <thead>\n",
       "    <tr style=\"text-align: right;\">\n",
       "      <th></th>\n",
       "      <th>Match</th>\n",
       "      <th>Ind</th>\n",
       "      <th>Sains</th>\n",
       "    </tr>\n",
       "  </thead>\n",
       "  <tbody>\n",
       "    <tr>\n",
       "      <th>Ninys</th>\n",
       "      <td>100</td>\n",
       "      <td>90</td>\n",
       "      <td>95</td>\n",
       "    </tr>\n",
       "    <tr>\n",
       "      <th>Cristin</th>\n",
       "      <td>90</td>\n",
       "      <td>89</td>\n",
       "      <td>92</td>\n",
       "    </tr>\n",
       "    <tr>\n",
       "      <th>Elsha</th>\n",
       "      <td>92</td>\n",
       "      <td>90</td>\n",
       "      <td>94</td>\n",
       "    </tr>\n",
       "    <tr>\n",
       "      <th>Tria</th>\n",
       "      <td>85</td>\n",
       "      <td>88</td>\n",
       "      <td>90</td>\n",
       "    </tr>\n",
       "  </tbody>\n",
       "</table>\n",
       "</div>"
      ],
      "text/plain": [
       "         Match  Ind  Sains\n",
       "Ninys      100   90     95\n",
       "Cristin     90   89     92\n",
       "Elsha       92   90     94\n",
       "Tria        85   88     90"
      ]
     },
     "execution_count": 66,
     "metadata": {},
     "output_type": "execute_result"
    }
   ],
   "source": [
    "df1 = pd.DataFrame({'Match':mtk, 'Ind':indo, 'Sains':ipa})\n",
    "df1"
   ]
  },
  {
   "cell_type": "code",
   "execution_count": 67,
   "id": "ff4c0bd5",
   "metadata": {},
   "outputs": [
    {
     "data": {
      "text/plain": [
       "Ninys      100\n",
       "Cristin     90\n",
       "Elsha       92\n",
       "Name: Match, dtype: int64"
      ]
     },
     "execution_count": 67,
     "metadata": {},
     "output_type": "execute_result"
    }
   ],
   "source": [
    "df1['Match']['Ninys':'Elsha']"
   ]
  },
  {
   "cell_type": "code",
   "execution_count": 68,
   "id": "92980775",
   "metadata": {},
   "outputs": [
    {
     "data": {
      "text/plain": [
       "Cristin    89\n",
       "Elsha      90\n",
       "Name: Ind, dtype: int64"
      ]
     },
     "execution_count": 68,
     "metadata": {},
     "output_type": "execute_result"
    }
   ],
   "source": [
    "df1['Ind'].iloc[1:3]"
   ]
  },
  {
   "cell_type": "markdown",
   "id": "04b5f041",
   "metadata": {},
   "source": [
    "# Change column names in a DataFrame"
   ]
  },
  {
   "cell_type": "code",
   "execution_count": 69,
   "id": "bd3927eb",
   "metadata": {},
   "outputs": [
    {
     "data": {
      "text/html": [
       "<div>\n",
       "<style scoped>\n",
       "    .dataframe tbody tr th:only-of-type {\n",
       "        vertical-align: middle;\n",
       "    }\n",
       "\n",
       "    .dataframe tbody tr th {\n",
       "        vertical-align: top;\n",
       "    }\n",
       "\n",
       "    .dataframe thead th {\n",
       "        text-align: right;\n",
       "    }\n",
       "</style>\n",
       "<table border=\"1\" class=\"dataframe\">\n",
       "  <thead>\n",
       "    <tr style=\"text-align: right;\">\n",
       "      <th></th>\n",
       "      <th>Matematika</th>\n",
       "      <th>Ind</th>\n",
       "      <th>Sains</th>\n",
       "    </tr>\n",
       "  </thead>\n",
       "  <tbody>\n",
       "    <tr>\n",
       "      <th>Ninys</th>\n",
       "      <td>100</td>\n",
       "      <td>90</td>\n",
       "      <td>95</td>\n",
       "    </tr>\n",
       "    <tr>\n",
       "      <th>Cristin</th>\n",
       "      <td>90</td>\n",
       "      <td>89</td>\n",
       "      <td>92</td>\n",
       "    </tr>\n",
       "    <tr>\n",
       "      <th>Elsha</th>\n",
       "      <td>92</td>\n",
       "      <td>90</td>\n",
       "      <td>94</td>\n",
       "    </tr>\n",
       "    <tr>\n",
       "      <th>Tria</th>\n",
       "      <td>85</td>\n",
       "      <td>88</td>\n",
       "      <td>90</td>\n",
       "    </tr>\n",
       "  </tbody>\n",
       "</table>\n",
       "</div>"
      ],
      "text/plain": [
       "         Matematika  Ind  Sains\n",
       "Ninys           100   90     95\n",
       "Cristin          90   89     92\n",
       "Elsha            92   90     94\n",
       "Tria             85   88     90"
      ]
     },
     "execution_count": 69,
     "metadata": {},
     "output_type": "execute_result"
    }
   ],
   "source": [
    "df1.rename(columns={'Match':'Matematika'}, inplace=True)\n",
    "df1"
   ]
  },
  {
   "cell_type": "code",
   "execution_count": 70,
   "id": "4d027961",
   "metadata": {},
   "outputs": [
    {
     "data": {
      "text/html": [
       "<div>\n",
       "<style scoped>\n",
       "    .dataframe tbody tr th:only-of-type {\n",
       "        vertical-align: middle;\n",
       "    }\n",
       "\n",
       "    .dataframe tbody tr th {\n",
       "        vertical-align: top;\n",
       "    }\n",
       "\n",
       "    .dataframe thead th {\n",
       "        text-align: right;\n",
       "    }\n",
       "</style>\n",
       "<table border=\"1\" class=\"dataframe\">\n",
       "  <thead>\n",
       "    <tr style=\"text-align: right;\">\n",
       "      <th></th>\n",
       "      <th>Matematika</th>\n",
       "      <th>Indonesia</th>\n",
       "      <th>Sains</th>\n",
       "    </tr>\n",
       "  </thead>\n",
       "  <tbody>\n",
       "    <tr>\n",
       "      <th>Ninys</th>\n",
       "      <td>100</td>\n",
       "      <td>90</td>\n",
       "      <td>95</td>\n",
       "    </tr>\n",
       "    <tr>\n",
       "      <th>Cristin</th>\n",
       "      <td>90</td>\n",
       "      <td>89</td>\n",
       "      <td>92</td>\n",
       "    </tr>\n",
       "    <tr>\n",
       "      <th>Elsha</th>\n",
       "      <td>92</td>\n",
       "      <td>90</td>\n",
       "      <td>94</td>\n",
       "    </tr>\n",
       "    <tr>\n",
       "      <th>Tria</th>\n",
       "      <td>85</td>\n",
       "      <td>88</td>\n",
       "      <td>90</td>\n",
       "    </tr>\n",
       "  </tbody>\n",
       "</table>\n",
       "</div>"
      ],
      "text/plain": [
       "         Matematika  Indonesia  Sains\n",
       "Ninys           100         90     95\n",
       "Cristin          90         89     92\n",
       "Elsha            92         90     94\n",
       "Tria             85         88     90"
      ]
     },
     "execution_count": 70,
     "metadata": {},
     "output_type": "execute_result"
    }
   ],
   "source": [
    "df1.columns = ['Matematika', 'Indonesia', 'Sains']\n",
    "df1"
   ]
  },
  {
   "cell_type": "code",
   "execution_count": 71,
   "id": "1ada788c",
   "metadata": {},
   "outputs": [
    {
     "data": {
      "text/html": [
       "<div>\n",
       "<style scoped>\n",
       "    .dataframe tbody tr th:only-of-type {\n",
       "        vertical-align: middle;\n",
       "    }\n",
       "\n",
       "    .dataframe tbody tr th {\n",
       "        vertical-align: top;\n",
       "    }\n",
       "\n",
       "    .dataframe thead th {\n",
       "        text-align: right;\n",
       "    }\n",
       "</style>\n",
       "<table border=\"1\" class=\"dataframe\">\n",
       "  <thead>\n",
       "    <tr style=\"text-align: right;\">\n",
       "      <th></th>\n",
       "      <th>Matematika</th>\n",
       "      <th>Indonesia</th>\n",
       "      <th>Ipa</th>\n",
       "    </tr>\n",
       "  </thead>\n",
       "  <tbody>\n",
       "    <tr>\n",
       "      <th>Ninys</th>\n",
       "      <td>100</td>\n",
       "      <td>90</td>\n",
       "      <td>95</td>\n",
       "    </tr>\n",
       "    <tr>\n",
       "      <th>Cristin</th>\n",
       "      <td>90</td>\n",
       "      <td>89</td>\n",
       "      <td>92</td>\n",
       "    </tr>\n",
       "    <tr>\n",
       "      <th>Elsha</th>\n",
       "      <td>92</td>\n",
       "      <td>90</td>\n",
       "      <td>94</td>\n",
       "    </tr>\n",
       "    <tr>\n",
       "      <th>Tria</th>\n",
       "      <td>85</td>\n",
       "      <td>88</td>\n",
       "      <td>90</td>\n",
       "    </tr>\n",
       "  </tbody>\n",
       "</table>\n",
       "</div>"
      ],
      "text/plain": [
       "         Matematika  Indonesia  Ipa\n",
       "Ninys           100         90   95\n",
       "Cristin          90         89   92\n",
       "Elsha            92         90   94\n",
       "Tria             85         88   90"
      ]
     },
     "execution_count": 71,
     "metadata": {},
     "output_type": "execute_result"
    }
   ],
   "source": [
    "df2 = pd.DataFrame({'Matematika':mtk, 'Indonesia':indo, 'Ipa':ipa})\n",
    "df2"
   ]
  },
  {
   "cell_type": "code",
   "execution_count": 72,
   "id": "e6ce1922",
   "metadata": {},
   "outputs": [
    {
     "data": {
      "text/plain": [
       "Cristin    89\n",
       "Elsha      90\n",
       "Name: Indonesia, dtype: int64"
      ]
     },
     "execution_count": 72,
     "metadata": {},
     "output_type": "execute_result"
    }
   ],
   "source": [
    "df2['Indonesia'].iloc[1:3]"
   ]
  },
  {
   "cell_type": "code",
   "execution_count": 73,
   "id": "7b58a533",
   "metadata": {},
   "outputs": [
    {
     "data": {
      "text/plain": [
       "Ninys      100\n",
       "Cristin     90\n",
       "Elsha       92\n",
       "Tria        85\n",
       "Name: Matematika, dtype: int64"
      ]
     },
     "execution_count": 73,
     "metadata": {},
     "output_type": "execute_result"
    }
   ],
   "source": [
    "df2['Matematika']"
   ]
  },
  {
   "cell_type": "code",
   "execution_count": 74,
   "id": "85686937",
   "metadata": {},
   "outputs": [
    {
     "data": {
      "text/plain": [
       "Ninys      95\n",
       "Cristin    92\n",
       "Elsha      94\n",
       "Name: Ipa, dtype: int64"
      ]
     },
     "execution_count": 74,
     "metadata": {},
     "output_type": "execute_result"
    }
   ],
   "source": [
    "df2['Ipa']['Ninys':'Elsha']"
   ]
  }
 ],
 "metadata": {
  "kernelspec": {
   "display_name": "Python 3 (ipykernel)",
   "language": "python",
   "name": "python3"
  },
  "language_info": {
   "codemirror_mode": {
    "name": "ipython",
    "version": 3
   },
   "file_extension": ".py",
   "mimetype": "text/x-python",
   "name": "python",
   "nbconvert_exporter": "python",
   "pygments_lexer": "ipython3",
   "version": "3.11.4"
  }
 },
 "nbformat": 4,
 "nbformat_minor": 5
}
